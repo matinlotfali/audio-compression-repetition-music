{
 "cells": [
  {
   "cell_type": "code",
   "execution_count": null,
   "id": "0f5a6db6",
   "metadata": {},
   "outputs": [],
   "source": [
    "import warnings\n",
    "warnings.simplefilter('ignore')\n",
    "import nussl\n",
    "import matplotlib.pyplot as plt\n",
    "import numpy as np\n",
    "import mdct\n",
    "import ffmpeg\n",
    "import librosa\n",
    "import soundfile as sf\n",
    "from IPython.display import Audio"
   ]
  },
  {
   "cell_type": "code",
   "execution_count": null,
   "id": "c4ad8575",
   "metadata": {
    "pycharm": {
     "name": "#%%\n"
    }
   },
   "outputs": [],
   "source": [
    "def encode_mdct(audio_data, output_file):\n",
    "    r = mdct.mdct(audio_data)\n",
    "    r = np.float16(r)\n",
    "    r[256:, :] = 0\n",
    "    r = np.round(r, decimals=3)\n",
    "    r = np.where(abs(r) < 0.01, 0, r)\n",
    "    np.savez_compressed(output_file, r)\n",
    "    return r\n",
    "\n",
    "def encode_nmv(audio_data, output_file):\n",
    "    r = librosa.stft(audio_data, n_fft=4096)    \n",
    "#     r = mdct.mdct(audio_data)\n",
    "    W, H = librosa.decompose.decompose(np.abs(r), n_components=100)\n",
    "    np.savez_compressed(output_file, W=W, H=H)\n",
    "\n",
    "def encode_ffmpeg(input_file, output_file):\n",
    "    ffmpeg.input(input_file).output(output_file, audio_bitrate='128k').run(quiet=True, overwrite_output=True)"
   ]
  },
  {
   "cell_type": "markdown",
   "id": "2b82b558",
   "metadata": {
    "pycharm": {
     "name": "#%% md\n"
    }
   },
   "source": [
    "# Original"
   ]
  },
  {
   "cell_type": "code",
   "execution_count": null,
   "id": "c1a3b946",
   "metadata": {},
   "outputs": [],
   "source": [
    "# file = \"audio/generated/generated_0\"\n",
    "file = \"samples/raw\"\n",
    "mix = nussl.AudioSignal(file + \".wav\")"
   ]
  },
  {
   "cell_type": "code",
   "execution_count": null,
   "id": "1abd5e74",
   "metadata": {},
   "outputs": [],
   "source": [
    "encode_mdct(mix.audio_data[0], file + \"_mdct.npz\")\n",
    "encode_nmv(mix.audio_data[0], file + \"_stft_nmv.npz\")"
   ]
  },
  {
   "cell_type": "code",
   "execution_count": null,
   "id": "5acc369e",
   "metadata": {},
   "outputs": [],
   "source": [
    "encode_ffmpeg(file+\".wav\", file + \".mp3\")\n",
    "encode_ffmpeg(file+\".wav\", file + \".aac\")"
   ]
  },
  {
   "cell_type": "markdown",
   "id": "b03612a7",
   "metadata": {
    "pycharm": {
     "name": "#%% md\n"
    }
   },
   "source": [
    "# REPET"
   ]
  },
  {
   "cell_type": "code",
   "execution_count": null,
   "id": "df52a4c6",
   "metadata": {},
   "outputs": [],
   "source": [
    "repet = nussl.separation.primitive.Repet(mix)\n",
    "repet_bg, repet_fg = repet()\n",
    "repet_bg.write_audio_to_file(file + \"_bg_repet.wav\")\n",
    "repet_fg.write_audio_to_file(file + \"_fg_repet.wav\")"
   ]
  },
  {
   "cell_type": "code",
   "execution_count": null,
   "id": "65028ede",
   "metadata": {
    "pycharm": {
     "name": "#%%\n"
    }
   },
   "outputs": [],
   "source": [
    "display(Audio(file + \"_bg_repet.wav\"))\n",
    "display(Audio(file + \"_fg_repet.wav\"))"
   ]
  },
  {
   "cell_type": "code",
   "execution_count": null,
   "id": "caf929dc",
   "metadata": {},
   "outputs": [],
   "source": [
    "encode_mdct(repet_bg.audio_data[0], file + \"_bg_repet.npz\")\n",
    "encode_mdct(repet_fg.audio_data[0], file + \"_fg_repet.npz\")\n",
    "encode_ffmpeg(file + \"_bg_repet.wav\", file + \"_bg_repet.mp3\")\n",
    "encode_ffmpeg(file + \"_bg_repet.wav\", file + \"_bg_repet.aac\")\n",
    "encode_ffmpeg(file + \"_fg_repet.wav\", file + \"_fg_repet.mp3\")\n",
    "encode_ffmpeg(file + \"_fg_repet.wav\", file + \"_fg_repet.aac\")"
   ]
  },
  {
   "cell_type": "markdown",
   "id": "43bda306",
   "metadata": {
    "pycharm": {
     "name": "#%% md\n"
    }
   },
   "source": [
    "# RSIM"
   ]
  },
  {
   "cell_type": "code",
   "execution_count": null,
   "id": "228991c3",
   "metadata": {},
   "outputs": [],
   "source": [
    "repet_sim = nussl.separation.primitive.RepetSim(mix)\n",
    "rsim_bg, rsim_fg = repet_sim()\n",
    "rsim_bg.write_audio_to_file(file + '_bg_rsim.wav')\n",
    "rsim_fg.write_audio_to_file(file + '_fg_rsim.wav')"
   ]
  },
  {
   "cell_type": "code",
   "execution_count": null,
   "id": "b9626b02",
   "metadata": {
    "pycharm": {
     "name": "#%%\n"
    }
   },
   "outputs": [],
   "source": [
    "display(Audio(file + '_bg_rsim.wav'))\n",
    "display(Audio(file + '_fg_rsim.wav'))"
   ]
  },
  {
   "cell_type": "code",
   "execution_count": null,
   "id": "b3c0a445",
   "metadata": {
    "pycharm": {
     "name": "#%%\n"
    }
   },
   "outputs": [],
   "source": [
    "encode_mdct(rsim_bg.audio_data[0], file + '_bg_rsim.npz')\n",
    "encode_mdct(rsim_fg.audio_data[0], file + '_fg_rsim.npz')\n",
    "encode_ffmpeg(file + '_bg_rsim.wav', file + '_bg_rsim.mp3')\n",
    "encode_ffmpeg(file + '_bg_rsim.wav', file + '_bg_rsim.aac')\n",
    "encode_ffmpeg(file + '_fg_rsim.wav', file + '_fg_rsim.mp3')\n",
    "encode_ffmpeg(file + '_fg_rsim.wav', file + '_fg_rsim.aac')"
   ]
  },
  {
   "cell_type": "markdown",
   "id": "15871f80",
   "metadata": {
    "pycharm": {
     "name": "#%% md\n"
    }
   },
   "source": [
    "# 2DFT"
   ]
  },
  {
   "cell_type": "code",
   "execution_count": null,
   "id": "b2beccf8",
   "metadata": {
    "pycharm": {
     "name": "#%%\n"
    }
   },
   "outputs": [],
   "source": [
    "ft2d = nussl.separation.primitive.FT2D(mix)\n",
    "ft2d_bg, ft2d_fg = ft2d()\n",
    "ft2d_bg.write_audio_to_file(file + '_bg_ft2d.wav')\n",
    "ft2d_fg.write_audio_to_file(file + '_fg_ft2d.wav')"
   ]
  },
  {
   "cell_type": "code",
   "execution_count": null,
   "id": "427024e5",
   "metadata": {
    "pycharm": {
     "name": "#%%\n"
    }
   },
   "outputs": [],
   "source": [
    "display(Audio(file + '_bg_ft2d.wav'))\n",
    "display(Audio(file + '_fg_ft2d.wav'))"
   ]
  },
  {
   "cell_type": "code",
   "execution_count": null,
   "id": "969ca454",
   "metadata": {
    "pycharm": {
     "name": "#%%\n"
    }
   },
   "outputs": [],
   "source": [
    "encode_mdct(ft2d_bg.audio_data[0], file + '_bg_ft2d.npz')\n",
    "encode_mdct(ft2d_fg.audio_data[0], file + '_fg_ft2d.npz')\n",
    "encode_ffmpeg(file + '_bg_ft2d.wav', file + '_bg_ft2d.mp3')\n",
    "encode_ffmpeg(file + '_bg_ft2d.wav', file + '_bg_ft2d.aac')\n",
    "encode_ffmpeg(file + '_fg_ft2d.wav', file + '_fg_ft2d.mp3')\n",
    "encode_ffmpeg(file + '_fg_ft2d.wav', file + '_fg_ft2d.aac')"
   ]
  },
  {
   "cell_type": "markdown",
   "id": "f43097db",
   "metadata": {
    "pycharm": {
     "name": "#%%\n"
    }
   },
   "source": [
    "# NMV Decoder"
   ]
  },
  {
   "cell_type": "code",
   "execution_count": null,
   "id": "6c8cfee0",
   "metadata": {},
   "outputs": [],
   "source": [
    "def decode_nmv(nmv_file, output_file):\n",
    "    loaded = np.load(nmv_file)\n",
    "    W, H = loaded['W'], loaded['H']\n",
    "    print(W.shape)\n",
    "    print(H.shape)\n",
    "    reconstructed_signal = None\n",
    "    for n in range(H.shape[0]):\n",
    "        Y = np.outer(W[:,n], H[n])        \n",
    "        Y = Y*np.exp(1j * np.angle(Y))\n",
    "        y = librosa.istft(Y)      \n",
    "#         y = mdct.imdct(Y)\n",
    "        if reconstructed_signal is None:\n",
    "            reconstructed_signal = np.zeros(len(y), dtype=np.float32) \n",
    "        reconstructed_signal[:len(y)] += y.astype(np.float32)\n",
    "\n",
    "    sf.write(output_file, reconstructed_signal, 44100)"
   ]
  },
  {
   "cell_type": "code",
   "execution_count": null,
   "id": "ac295872",
   "metadata": {
    "scrolled": false
   },
   "outputs": [],
   "source": [
    "decode_nmv(file + \"_stft_nmv.npz\", file + \"_stft_nmv_decoded.wav\")"
   ]
  },
  {
   "cell_type": "code",
   "execution_count": null,
   "id": "296ab025",
   "metadata": {},
   "outputs": [],
   "source": []
  }
 ],
 "metadata": {
  "kernelspec": {
   "display_name": "Python 3 (ipykernel)",
   "language": "python",
   "name": "python3"
  },
  "language_info": {
   "codemirror_mode": {
    "name": "ipython",
    "version": 3
   },
   "file_extension": ".py",
   "mimetype": "text/x-python",
   "name": "python",
   "nbconvert_exporter": "python",
   "pygments_lexer": "ipython3",
   "version": "3.8.10"
  }
 },
 "nbformat": 4,
 "nbformat_minor": 5
}
